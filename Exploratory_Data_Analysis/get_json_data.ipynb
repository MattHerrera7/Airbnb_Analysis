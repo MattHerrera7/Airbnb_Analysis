{
 "cells": [
  {
   "cell_type": "markdown",
   "id": "65aad6e0",
   "metadata": {},
   "source": [
    "#### Purpose: Retrieve short-term rental json data from Mashvisor API\n",
    "Source: https://www.mashvisor.com/api-doc/#short-term-rentals"
   ]
  },
  {
   "cell_type": "code",
   "execution_count": 1,
   "id": "f09db2b5-5865-43f4-b6bf-6c2f61755f08",
   "metadata": {},
   "outputs": [],
   "source": [
    "# Import the dependencies.\n",
    "import json\n",
    "import numpy\n",
    "# Import the requests library.\n",
    "import requests\n",
    "\n",
    "# Import the API key.\n",
    "import sys, os\n",
    "sys.path.append(os.path.abspath(os.path.join('..')))\n",
    "\n",
    "# Now do your import\n",
    "from config import mash_api_key\n",
    "# from folder.config import weather_api_key"
   ]
  },
  {
   "cell_type": "code",
   "execution_count": 2,
   "id": "a53bae4e-cd93-4371-9d5c-9b1fa9a226b4",
   "metadata": {},
   "outputs": [
    {
     "name": "stdout",
     "output_type": "stream",
     "text": [
      "https://api.mashvisor.com/v1.1/client/airbnb-property/active-listings?state=FL&city=Tampa&items=20&page=1\n"
     ]
    }
   ],
   "source": [
    "# Adjust the state, city, and page_num for each data pull. Mashviser doesn't allow you to pull the entire\n",
    "# data in one shot. Initially, we pull the first page, and then identify how many pages to pulls from there\n",
    "state = \"FL\"\n",
    "city = \"Tampa\"\n",
    "page_num = 1\n",
    "\n",
    "# Get Listings\n",
    "# Lists all active short-term rentals for a specific location: city, zip code, or neighborhood.\n",
    "filename = \"listings_\" + city\n",
    "baseURL = \"https://api.mashvisor.com/v1.1/client/airbnb-property/active-listings?state=\"+ state + \"&city=\" + city + \"&items=20&page=\" + str(page_num)\n",
    "\n",
    "# Get Market Summary\n",
    "# # This endpoint retrieves a summary and overview for a specific location: city, zip code, or neighborhood.\n",
    "# filename = \"market_summary_\" + city\n",
    "# baseURL = \"https://api.mashvisor.com/v1.1/client/airbnb-property/market-summary?state=\" + state + \"&city=\" + city\n",
    "\n",
    "# # Get Airbnb Occupancy Rates\n",
    "# # For each Airbnb listing, we calculate its occupancy rate (month per month and annual rates), plus 12-month historical occupancy data.\n",
    "# filename = \"occupancy_rate_\" + city\n",
    "# baseURL = \"https://api.mashvisor.com/v1.1/client/airbnb-property/occupancy-rates?state=\" + state + \"&city=\" + city\n",
    "\n",
    "print(baseURL)"
   ]
  },
  {
   "cell_type": "code",
   "execution_count": 3,
   "id": "fa693eae-51f7-440f-9a35-5585bd31e25a",
   "metadata": {},
   "outputs": [],
   "source": [
    "# Add the Authorization header\n",
    "headers = {'x-api-key': f'{mash_api_key}'}\n",
    "\n",
    "# Get the list of devices from Nautobot using the requests module and passing in the authorization header defined above\n",
    "response = requests.get(baseURL, headers=headers)\n",
    "\n",
    "if response.status_code != 204 and response.headers[\"content-type\"].strip().startswith(\"application/json\"):\n",
    "    try:\n",
    "        data = response.json()\n",
    "    except ValueError:\n",
    "        print('Error')"
   ]
  },
  {
   "cell_type": "code",
   "execution_count": 4,
   "id": "3fcfa04f",
   "metadata": {},
   "outputs": [
    {
     "data": {
      "text/plain": [
       "{'status': 'error', 'code': 401, 'message': 'Api quota has been consumed'}"
      ]
     },
     "execution_count": 4,
     "metadata": {},
     "output_type": "execute_result"
    }
   ],
   "source": [
    "data"
   ]
  },
  {
   "cell_type": "code",
   "execution_count": 9,
   "id": "0fdaeb4e",
   "metadata": {},
   "outputs": [
    {
     "ename": "KeyError",
     "evalue": "'content'",
     "output_type": "error",
     "traceback": [
      "\u001b[1;31m---------------------------------------------------------------------------\u001b[0m",
      "\u001b[1;31mKeyError\u001b[0m                                  Traceback (most recent call last)",
      "\u001b[1;32mc:\\Users\\alice.hayden\\OneDrive - H2 IT Solutions\\Data Analysis Projects\\AirBnb-Final-Project\\Exploratory_Data_Analysis\\get_json_data.ipynb Cell 5\u001b[0m in \u001b[0;36m<cell line: 2>\u001b[1;34m()\u001b[0m\n\u001b[0;32m      <a href='vscode-notebook-cell:/c%3A/Users/alice.hayden/OneDrive%20-%20H2%20IT%20Solutions/Data%20Analysis%20Projects/AirBnb-Final-Project/Exploratory_Data_Analysis/get_json_data.ipynb#W4sZmlsZQ%3D%3D?line=0'>1</a>\u001b[0m \u001b[39m# Get the total pages for this search\u001b[39;00m\n\u001b[1;32m----> <a href='vscode-notebook-cell:/c%3A/Users/alice.hayden/OneDrive%20-%20H2%20IT%20Solutions/Data%20Analysis%20Projects/AirBnb-Final-Project/Exploratory_Data_Analysis/get_json_data.ipynb#W4sZmlsZQ%3D%3D?line=1'>2</a>\u001b[0m pages \u001b[39m=\u001b[39m data[\u001b[39m\"\u001b[39;49m\u001b[39mcontent\u001b[39;49m\u001b[39m\"\u001b[39;49m][\u001b[39m\"\u001b[39m\u001b[39mtotal_pages\u001b[39m\u001b[39m\"\u001b[39m]\n\u001b[0;32m      <a href='vscode-notebook-cell:/c%3A/Users/alice.hayden/OneDrive%20-%20H2%20IT%20Solutions/Data%20Analysis%20Projects/AirBnb-Final-Project/Exploratory_Data_Analysis/get_json_data.ipynb#W4sZmlsZQ%3D%3D?line=3'>4</a>\u001b[0m \u001b[39m# Get the properties that are a part of page 1 content\u001b[39;00m\n\u001b[0;32m      <a href='vscode-notebook-cell:/c%3A/Users/alice.hayden/OneDrive%20-%20H2%20IT%20Solutions/Data%20Analysis%20Projects/AirBnb-Final-Project/Exploratory_Data_Analysis/get_json_data.ipynb#W4sZmlsZQ%3D%3D?line=4'>5</a>\u001b[0m listings \u001b[39m=\u001b[39m data[\u001b[39m\"\u001b[39m\u001b[39mcontent\u001b[39m\u001b[39m\"\u001b[39m][\u001b[39m\"\u001b[39m\u001b[39mproperties\u001b[39m\u001b[39m\"\u001b[39m]\n",
      "\u001b[1;31mKeyError\u001b[0m: 'content'"
     ]
    }
   ],
   "source": [
    "# Get the total pages for this search\n",
    "pages = data[\"content\"][\"total_pages\"]\n",
    "\n",
    "# Get the properties that are a part of page 1 content\n",
    "listings = data[\"content\"][\"properties\"]\n",
    " \n",
    "# Start on page 2 and loop through the number of pages to \n",
    "# get properties for each page by sending another JSON API \n",
    "# request for that particular page\n",
    "i = 2\n",
    "while i < pages:\n",
    "    baseURL=f\"https://api.mashvisor.com/v1.1/client/airbnb-property/active-listings?state={state}&city={city}&items=20&page={str(i)}\"\n",
    "    print(baseURL)\n",
    "    response = requests.get(baseURL, headers=headers)\n",
    "    if response.status_code != 204 and response.headers[\"content-type\"].strip().startswith(\"application/json\"):\n",
    "        try:\n",
    "            new_data = response.json()\n",
    "            for listing in new_data[\"content\"][\"properties\"]:\n",
    "                listings.append(listing)\n",
    "        except ValueError:\n",
    "            print('Error')\n",
    "    i = i + 1 \n",
    "\n",
    "# Save data into json file\n",
    "with open('original_json_data/' + filename + '.json', 'w') as outfile:\n",
    "    json.dump(listings, outfile)\n",
    "\n",
    "print(\"all done\")\n"
   ]
  },
  {
   "cell_type": "code",
   "execution_count": null,
   "id": "96611167",
   "metadata": {},
   "outputs": [],
   "source": [
    "response"
   ]
  }
 ],
 "metadata": {
  "kernelspec": {
   "display_name": "mlenv",
   "language": "python",
   "name": "mlenv"
  },
  "language_info": {
   "codemirror_mode": {
    "name": "ipython",
    "version": 3
   },
   "file_extension": ".py",
   "mimetype": "text/x-python",
   "name": "python",
   "nbconvert_exporter": "python",
   "pygments_lexer": "ipython3",
   "version": "3.9.12"
  }
 },
 "nbformat": 4,
 "nbformat_minor": 5
}
